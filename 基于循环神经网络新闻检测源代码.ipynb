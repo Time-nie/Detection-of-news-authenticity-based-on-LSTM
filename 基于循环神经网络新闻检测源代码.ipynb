{
 "cells": [
  {
   "cell_type": "code",
   "execution_count": 18,
   "metadata": {
    "collapsed": false
   },
   "outputs": [],
   "source": [
    "# 查看当前挂载的数据集目录, 该目录下的变更重启环境后会自动还原\n",
    "# View dataset directory. \n",
    "# This directory will be recovered automatically after resetting environment. \n",
    "# !ls /home/aistudio/data"
   ]
  },
  {
   "cell_type": "code",
   "execution_count": 19,
   "metadata": {
    "collapsed": false
   },
   "outputs": [],
   "source": [
    "# 查看工作区文件, 该目录下的变更将会持久保存. 请及时清理不必要的文件, 避免加载过慢.\n",
    "# View personal work directory. \n",
    "# All changes under this directory will be kept even after reset. \n",
    "# Please clean unnecessary files in time to speed up environment loading. \n",
    "# !ls /home/aistudio/work"
   ]
  },
  {
   "cell_type": "code",
   "execution_count": 20,
   "metadata": {
    "collapsed": false
   },
   "outputs": [
    {
     "name": "stdout",
     "output_type": "stream",
     "text": [
      "mkdir: cannot create directory ‘/home/aistudio/external-libraries’: File exists\n",
      "Looking in indexes: https://pypi.tuna.tsinghua.edu.cn/simple\n",
      "Collecting beautifulsoup4\n",
      "  Using cached https://pypi.tuna.tsinghua.edu.cn/packages/69/bf/f0f194d3379d3f3347478bd267f754fc68c11cbf2fe302a6ab69447b1417/beautifulsoup4-4.10.0-py3-none-any.whl\n",
      "Collecting soupsieve>1.2 (from beautifulsoup4)\n",
      "  Using cached https://pypi.tuna.tsinghua.edu.cn/packages/72/a6/fd01694427f1c3fcadfdc5f1de901b813b9ac756f0806ef470cfed1de281/soupsieve-2.3.1-py3-none-any.whl\n",
      "Installing collected packages: soupsieve, beautifulsoup4\n",
      "Successfully installed beautifulsoup4-4.10.0 soupsieve-2.3.1\n",
      "\u001b[33mWARNING: Target directory /home/aistudio/external-libraries/soupsieve-2.3.1.dist-info already exists. Specify --upgrade to force replacement.\u001b[0m\n",
      "\u001b[33mWARNING: Target directory /home/aistudio/external-libraries/soupsieve already exists. Specify --upgrade to force replacement.\u001b[0m\n",
      "\u001b[33mWARNING: Target directory /home/aistudio/external-libraries/bs4 already exists. Specify --upgrade to force replacement.\u001b[0m\n",
      "\u001b[33mWARNING: Target directory /home/aistudio/external-libraries/beautifulsoup4-4.10.0.dist-info already exists. Specify --upgrade to force replacement.\u001b[0m\n"
     ]
    }
   ],
   "source": [
    "# 如果需要进行持久化安装, 需要使用持久化路径, 如下方代码示例:\n",
    "# If a persistence installation is required, \n",
    "# you need to use the persistence path as the following: \n",
    "!mkdir /home/aistudio/external-libraries\n",
    "!pip install beautifulsoup4 -t /home/aistudio/external-libraries"
   ]
  },
  {
   "cell_type": "code",
   "execution_count": 21,
   "metadata": {
    "collapsed": false
   },
   "outputs": [],
   "source": [
    "# 同时添加如下代码, 这样每次环境(kernel)启动的时候只要运行下方代码即可: \n",
    "# Also add the following code, \n",
    "# so that every time the environment (kernel) starts, \n",
    "# just run the following code: \n",
    "import sys \n",
    "sys.path.append('/home/aistudio/external-libraries')"
   ]
  },
  {
   "cell_type": "markdown",
   "metadata": {
    "collapsed": false
   },
   "source": [
    "请点击[此处](https://ai.baidu.com/docs#/AIStudio_Project_Notebook/a38e5576)查看本环境基本用法.  <br>\n",
    "Please click [here ](https://ai.baidu.com/docs#/AIStudio_Project_Notebook/a38e5576) for more detailed instructions. "
   ]
  },
  {
   "cell_type": "code",
   "execution_count": 22,
   "metadata": {
    "collapsed": false
   },
   "outputs": [],
   "source": [
    "import pandas as pd\r\n",
    "import os\r\n",
    "import pdb\r\n",
    "from multiprocessing import cpu_count\r\n",
    "import numpy as np\r\n",
    "import shutil\r\n",
    "import paddle\r\n",
    "import paddle.fluid as fluid\r\n",
    "from PIL import Image\r\n",
    "import matplotlib.pyplot as plt\r\n",
    "import random\r\n",
    "import sklearn\r\n",
    "from sklearn.feature_extraction.text import TfidfVectorizer\r\n",
    "from sklearn.naive_bayes import MultinomialNB\r\n",
    "from sklearn.tree import DecisionTreeClassifier\r\n",
    "from sklearn.preprocessing import StandardScaler\r\n",
    "from sklearn.neighbors import KNeighborsClassifier\r\n",
    "from sklearn.model_selection import GridSearchCV\r\n",
    "from sklearn import svm\r\n",
    "from sklearn.metrics import classification_report\r\n",
    "from sklearn.metrics import roc_auc_score\r\n",
    "from sklearn.ensemble import RandomForestClassifier\r\n",
    "import jieba"
   ]
  },
  {
   "cell_type": "code",
   "execution_count": 23,
   "metadata": {
    "collapsed": false
   },
   "outputs": [],
   "source": [
    "all_train_list = []\r\n",
    "all_test_list = []\r\n",
    "train_frame = pd.read_csv('train.csv') \r\n",
    "test_frame = pd.read_csv('test.csv') \r\n",
    "train_frame['Report Content'] = train_frame['Report Content'].apply(lambda x: x.split('##'))\r\n",
    "test_frame['Report Content'] = test_frame['Report Content'].apply(lambda x: x.split('##'))\r\n",
    "all_test_num=test_frame.shape[0]\r\n",
    "all_num=train_frame.shape[0]\r\n",
    "for num in range(all_num): \r\n",
    "    all_train_list.append(str(train_frame[\"label\"][num])+\"\\t\"+train_frame[\"Title\"][num]+\"\\n\")\r\n",
    "for num in range(all_test_num): \r\n",
    "    all_test_list.append(str(test_frame[\"label\"][num])+\"\\t\"+test_frame[\"Title\"][num]+\"\\n\")"
   ]
  },
  {
   "cell_type": "code",
   "execution_count": 24,
   "metadata": {
    "collapsed": false
   },
   "outputs": [],
   "source": [
    "#全部训练集数据进行乱序后写入all_train_data.txt\r\n",
    "data_list_path=\"/home/aistudio/data/\"\r\n",
    "all_data_path=data_list_path + \"all_train_data.txt\"\r\n",
    "\r\n",
    "#在生成all_train_data.txt之前，首先将其清空\r\n",
    "#写入的字符串包含换行符，可以达到写入多行的效果\r\n",
    "with open(all_data_path, 'w') as f:\r\n",
    "    f.seek(0)\r\n",
    "    f.truncate()  \r\n",
    "with open(all_data_path, 'a') as f:\r\n",
    "    for data in all_train_list:\r\n",
    "        f.write(data) "
   ]
  },
  {
   "cell_type": "code",
   "execution_count": 25,
   "metadata": {
    "collapsed": false
   },
   "outputs": [],
   "source": [
    "#全部测试集数据进行乱序后写入all_test_data.txt\r\n",
    "data_list_path=\"/home/aistudio/data/\"\r\n",
    "all_data_path=data_list_path + \"all_test_data.txt\"\r\n",
    "\r\n",
    "#在生成all_test_data.txt之前，首先将其清空\r\n",
    "with open(all_data_path, 'w') as f:\r\n",
    "    f.seek(0)\r\n",
    "    f.truncate()  \r\n",
    "with open(all_data_path, 'a') as f:\r\n",
    "    for data in all_test_list:\r\n",
    "        f.write(data) "
   ]
  },
  {
   "cell_type": "code",
   "execution_count": 26,
   "metadata": {
    "collapsed": false
   },
   "outputs": [],
   "source": [
    "#全部数据进行乱序后写入all_data.txt\r\n",
    "data_list_path=\"/home/aistudio/data/\"\r\n",
    "all_data_path=data_list_path + \"all_data.txt\"\r\n",
    "all_data_list = all_train_list + all_test_list\r\n",
    "\r\n",
    "\r\n",
    "#在生成all_data.txt之前，首先将其清空\r\n",
    "with open(all_data_path, 'w') as f:\r\n",
    "    f.seek(0)\r\n",
    "    f.truncate() \r\n",
    "    \r\n",
    "with open(all_data_path, 'a') as f:\r\n",
    "    for data in all_data_list:\r\n",
    "        f.write(data) "
   ]
  },
  {
   "cell_type": "code",
   "execution_count": 27,
   "metadata": {
    "collapsed": false
   },
   "outputs": [
    {
     "name": "stdout",
     "output_type": "stream",
     "text": [
      "x_train,x_test,y_train,y_test生成完成！\n"
     ]
    }
   ],
   "source": [
    "# 数据处理\r\n",
    "x_train=[]\r\n",
    "x_test=[]\r\n",
    "y_train=[]\r\n",
    "y_test=[]\r\n",
    "# readlines读入所有数据，如果文件（待读入）的数据过大则不适宜\r\n",
    "with open(os.path.join(data_list_path, 'all_train_data.txt'), 'r', encoding='utf-8') as f_train_data:\r\n",
    "    train_lines = f_train_data.readlines()\r\n",
    "with open(os.path.join(data_list_path, 'all_test_data.txt'), 'r', encoding='utf-8') as f_test_data:\r\n",
    "    test_lines = f_test_data.readlines()\r\n",
    "for line in train_lines:\r\n",
    "    words = line.split('\\t')[-1].replace('\\n', '')\r\n",
    "    label = line.split('\\t')[0]\r\n",
    "    x_train.append(words)\r\n",
    "    y_train.append(label)\r\n",
    "for line in test_lines:\r\n",
    "    words = line.split('\\t')[-1].replace('\\n', '')\r\n",
    "    label = line.split('\\t')[0]\r\n",
    "    x_test.append(words)\r\n",
    "    y_test.append(label)\r\n",
    "print(\"x_train,x_test,y_train,y_test生成完成！\")"
   ]
  },
  {
   "cell_type": "code",
   "execution_count": 28,
   "metadata": {
    "collapsed": false
   },
   "outputs": [],
   "source": [
    "# 特征工程：文本特征抽取-tfid\r\n",
    "transfer = TfidfVectorizer()\r\n",
    "x_train = transfer.fit_transform(x_train)\r\n",
    "x_test = transfer.transform(x_test)"
   ]
  },
  {
   "cell_type": "code",
   "execution_count": 29,
   "metadata": {
    "collapsed": false
   },
   "outputs": [
    {
     "name": "stdout",
     "output_type": "stream",
     "text": [
      "准确率为:0.900700 \n",
      " AUC为:0.684585 \n",
      "\n",
      "              precision    recall  f1-score   support\n",
      "\n",
      "         非谣言       0.90      0.99      0.94      8659\n",
      "          谣言       0.87      0.38      0.53      1482\n",
      "\n",
      "   micro avg       0.90      0.90      0.90     10141\n",
      "   macro avg       0.88      0.68      0.74     10141\n",
      "weighted avg       0.90      0.90      0.88     10141\n",
      "\n"
     ]
    },
    {
     "name": "stderr",
     "output_type": "stream",
     "text": [
      "/opt/conda/envs/python35-paddle120-env/lib/python3.7/site-packages/numpy/lib/arraysetops.py:579: FutureWarning: elementwise comparison failed; returning scalar instead, but in the future will perform elementwise comparison\n",
      "  mask &= (ar1 != a)\n",
      "/opt/conda/envs/python35-paddle120-env/lib/python3.7/site-packages/numpy/lib/arraysetops.py:579: FutureWarning: elementwise comparison failed; returning scalar instead, but in the future will perform elementwise comparison\n",
      "  mask &= (ar1 != a)\n",
      "/opt/conda/envs/python35-paddle120-env/lib/python3.7/site-packages/numpy/lib/arraysetops.py:579: FutureWarning: elementwise comparison failed; returning scalar instead, but in the future will perform elementwise comparison\n",
      "  mask &= (ar1 != a)\n",
      "/opt/conda/envs/python35-paddle120-env/lib/python3.7/site-packages/numpy/lib/arraysetops.py:579: FutureWarning: elementwise comparison failed; returning scalar instead, but in the future will perform elementwise comparison\n",
      "  mask &= (ar1 != a)\n"
     ]
    }
   ],
   "source": [
    "# 方法一：朴素贝叶斯算法\r\n",
    " # 1.朴素贝叶斯算法预估器\r\n",
    "estimator = MultinomialNB()\r\n",
    "estimator.fit(x_train, y_train)\r\n",
    "\r\n",
    "# 2.模型评估（计算准确率）\r\n",
    "score = estimator.score(x_test, y_test)\r\n",
    "y_predict = estimator.predict(x_test)\r\n",
    "report = classification_report(y_test, y_predict, labels=[0,1],target_names=[\"非谣言\", \"谣言\"])\r\n",
    "print(\"准确率为:%f \\n AUC为:%f \\n\" %(score,roc_auc_score(list(map(int, y_test)), list(map(int, y_predict)))))\r\n",
    "print(report)"
   ]
  },
  {
   "cell_type": "code",
   "execution_count": 30,
   "metadata": {
    "collapsed": false
   },
   "outputs": [
    {
     "name": "stdout",
     "output_type": "stream",
     "text": [
      "准确率为:0.899615 \n",
      " AUC为:0.679476 \n",
      "\n",
      "              precision    recall  f1-score   support\n",
      "\n",
      "         非谣言       0.90      0.99      0.94      8659\n",
      "          谣言       0.87      0.37      0.52      1482\n",
      "\n",
      "   micro avg       0.90      0.90      0.90     10141\n",
      "   macro avg       0.89      0.68      0.73     10141\n",
      "weighted avg       0.90      0.90      0.88     10141\n",
      "\n"
     ]
    },
    {
     "name": "stderr",
     "output_type": "stream",
     "text": [
      "/opt/conda/envs/python35-paddle120-env/lib/python3.7/site-packages/numpy/lib/arraysetops.py:579: FutureWarning: elementwise comparison failed; returning scalar instead, but in the future will perform elementwise comparison\n",
      "  mask &= (ar1 != a)\n",
      "/opt/conda/envs/python35-paddle120-env/lib/python3.7/site-packages/numpy/lib/arraysetops.py:579: FutureWarning: elementwise comparison failed; returning scalar instead, but in the future will perform elementwise comparison\n",
      "  mask &= (ar1 != a)\n",
      "/opt/conda/envs/python35-paddle120-env/lib/python3.7/site-packages/numpy/lib/arraysetops.py:579: FutureWarning: elementwise comparison failed; returning scalar instead, but in the future will perform elementwise comparison\n",
      "  mask &= (ar1 != a)\n",
      "/opt/conda/envs/python35-paddle120-env/lib/python3.7/site-packages/numpy/lib/arraysetops.py:579: FutureWarning: elementwise comparison failed; returning scalar instead, but in the future will perform elementwise comparison\n",
      "  mask &= (ar1 != a)\n"
     ]
    }
   ],
   "source": [
    "# 方法二：决策树算法\r\n",
    "# 1.决策树预估器\r\n",
    "estimator = DecisionTreeClassifier(criterion=\"entropy\")\r\n",
    "estimator.fit(x_train, y_train)\r\n",
    "# 2.模型评估（计算准确率）\r\n",
    "score = estimator.score(x_test, y_test)\r\n",
    "y_predict = estimator.predict(x_test)\r\n",
    "report = classification_report(y_test, y_predict, labels=[0,1],target_names=[\"非谣言\", \"谣言\"])\r\n",
    "print(\"准确率为:%f \\n AUC为:%f \\n\" %(score,roc_auc_score(list(map(int, y_test)), list(map(int, y_predict)))))\r\n",
    "print(report)"
   ]
  },
  {
   "cell_type": "markdown",
   "metadata": {
    "collapsed": false
   },
   "source": []
  },
  {
   "cell_type": "code",
   "execution_count": 31,
   "metadata": {
    "collapsed": false
   },
   "outputs": [
    {
     "name": "stdout",
     "output_type": "stream",
     "text": [
      "准确率为:0.903856 \n",
      " AUC为:0.689509 \n",
      "\n",
      "最佳参数: \n",
      " {'max_depth': 1000, 'n_estimators': 100}\n",
      "最佳结果：\n",
      " 0.9676962312269765\n",
      "最佳估计器：\n",
      " RandomForestClassifier(max_depth=1000)\n",
      "交叉验证器: \n",
      " {'mean_fit_time': array([14.85936085, 16.53700233, 18.16530013, 16.04057185, 17.87336604,\n",
      "       19.62751389, 16.49975268, 18.39632424, 20.20410784]), 'std_fit_time': array([1.23214487, 1.29136437, 1.45330659, 1.51399555, 1.68998751,\n",
      "       1.84341831, 1.58377373, 1.75640723, 1.95435695]), 'mean_score_time': array([0.44730369, 0.49632295, 0.54543646, 0.61377343, 0.6811084 ,\n",
      "       0.74978765, 0.76190344, 0.8481582 , 0.93057521]), 'std_score_time': array([0.00954613, 0.01083484, 0.011835  , 0.00861932, 0.0103134 ,\n",
      "       0.01287569, 0.00851975, 0.01204048, 0.01028258]), 'param_max_depth': masked_array(data=[500, 500, 500, 750, 750, 750, 1000, 1000, 1000],\n",
      "             mask=[False, False, False, False, False, False, False, False,\n",
      "                   False],\n",
      "       fill_value='?',\n",
      "            dtype=object), 'param_n_estimators': masked_array(data=[90, 100, 110, 90, 100, 110, 90, 100, 110],\n",
      "             mask=[False, False, False, False, False, False, False, False,\n",
      "                   False],\n",
      "       fill_value='?',\n",
      "            dtype=object), 'params': [{'max_depth': 500, 'n_estimators': 90}, {'max_depth': 500, 'n_estimators': 100}, {'max_depth': 500, 'n_estimators': 110}, {'max_depth': 750, 'n_estimators': 90}, {'max_depth': 750, 'n_estimators': 100}, {'max_depth': 750, 'n_estimators': 110}, {'max_depth': 1000, 'n_estimators': 90}, {'max_depth': 1000, 'n_estimators': 100}, {'max_depth': 1000, 'n_estimators': 110}], 'split0_test_score': array([0.92150751, 0.92320771, 0.92207424, 0.92434117, 0.92490791,\n",
      "       0.92490791, 0.92462454, 0.92405781, 0.92490791]), 'split1_test_score': array([0.97874752, 0.97874752, 0.97818079, 0.98639841, 0.98611505,\n",
      "       0.98696515, 0.98696515, 0.98781525, 0.98639841]), 'split2_test_score': array([0.97846415, 0.97959762, 0.98243128, 0.99149901, 0.99064891,\n",
      "       0.99093228, 0.99008218, 0.99121564, 0.99093228]), 'mean_test_score': array([0.95957306, 0.96051762, 0.96089544, 0.96741286, 0.96722395,\n",
      "       0.96760178, 0.96722395, 0.96769623, 0.96741286]), 'std_test_score': array([0.02691666, 0.02638437, 0.02750552, 0.03052739, 0.02997916,\n",
      "       0.03023254, 0.0301492 , 0.03088824, 0.03011248]), 'rank_test_score': array([9, 8, 7, 3, 5, 2, 5, 1, 3], dtype=int32)}\n"
     ]
    }
   ],
   "source": [
    "# 方法三 ：随机森林算法\r\n",
    "# 1.随即森林预估器\r\n",
    "estimator =RandomForestClassifier()\r\n",
    "\r\n",
    "# 2.参数准备\r\n",
    "param_dict = {\"n_estimators\": [90,100,110], \"max_depth\":[500,750,1000]}\r\n",
    "estimator = GridSearchCV(estimator, param_dict, cv=3)\r\n",
    "estimator.fit(x_train, y_train)\r\n",
    "\r\n",
    "# 3.模型评估(计算准确率)\r\n",
    "score = estimator.score(x_test, y_test)\r\n",
    "y_predict = estimator.predict(x_test)\r\n",
    "print(\"准确率为:%f \\n AUC为:%f \\n\" %(score,roc_auc_score(list(map(int, y_test)), list(map(int, y_predict)))))\r\n",
    "# best_params_:最佳参数\r\n",
    "print(\"最佳参数: \\n\", estimator.best_params_)\r\n",
    "# best_score: 在交叉验证中验证的最好结果_\r\n",
    "print(\"最佳结果：\\n\", estimator.best_score_)\r\n",
    "# best_estimator：最佳估计器\r\n",
    "print(\"最佳估计器：\\n\", estimator.best_estimator_)\r\n",
    "# cv_results_: 每次交叉验证后的验证集准确率结果和训练集准确率结果\r\n",
    "print(\"交叉验证器: \\n\", estimator.cv_results_)"
   ]
  },
  {
   "cell_type": "code",
   "execution_count": 32,
   "metadata": {
    "collapsed": false
   },
   "outputs": [
    {
     "name": "stdout",
     "output_type": "stream",
     "text": [
      "准确率为:0.902081 \n",
      " AUC为:0.670573 \n",
      "\n",
      "最佳参数: \n",
      " {'n_neighbors': 1}\n",
      "最佳结果：\n",
      " 0.9739360705162877\n",
      "最佳估计器：\n",
      " KNeighborsClassifier(n_neighbors=1)\n",
      "交叉验证器: \n",
      " {'mean_fit_time': array([0.00488825, 0.00493941, 0.00491607, 0.00491459, 0.00491936]), 'std_fit_time': array([1.97040480e-04, 5.36765107e-05, 3.05628534e-05, 3.22170554e-05,\n",
      "       3.60038974e-05]), 'mean_score_time': array([0.26046228, 0.27633371, 0.29019973, 0.32899864, 0.32911835]), 'std_score_time': array([0.00111505, 0.00176159, 0.00091182, 0.01869933, 0.01692365]), 'param_n_neighbors': masked_array(data=[1, 2, 3, 4, 5],\n",
      "             mask=[False, False, False, False, False],\n",
      "       fill_value='?',\n",
      "            dtype=object), 'params': [{'n_neighbors': 1}, {'n_neighbors': 2}, {'n_neighbors': 3}, {'n_neighbors': 4}, {'n_neighbors': 5}], 'split0_test_score': array([0.84419263, 0.79225685, 0.79603399, 0.82719547, 0.81964117]), 'split1_test_score': array([0.93578848, 0.84985836, 0.84891407, 0.89423985, 0.87629839]), 'split2_test_score': array([1.        , 0.89896128, 0.89518414, 0.94617564, 0.73182247]), 'split3_test_score': array([0.99622285, 0.91690274, 0.91690274, 0.38904627, 0.41737488]), 'split4_test_score': array([0.99716714, 0.90934844, 0.90934844, 0.87440982, 0.86968839]), 'split5_test_score': array([0.98961284, 0.89423985, 0.89423985, 0.8829084 , 0.58451369]), 'split6_test_score': array([0.99338999, 0.88951841, 0.8904627 , 0.78186969, 0.71482531]), 'split7_test_score': array([0.99432892, 0.90831758, 0.90642722, 0.6899811 , 0.40170132]), 'split8_test_score': array([0.9952741 , 0.9026465 , 0.90075614, 0.91587902, 0.87807183]), 'split9_test_score': array([0.99338374, 0.91304348, 0.91020794, 0.84499055, 0.76654064]), 'mean_test_score': array([0.97393607, 0.88750935, 0.88684772, 0.80466958, 0.70604781]), 'std_test_score': array([0.04677384, 0.03650499, 0.03515023, 0.15490273, 0.17128612]), 'rank_test_score': array([1, 2, 3, 4, 5], dtype=int32)}\n"
     ]
    }
   ],
   "source": [
    "# 方法四：KNN算法（添加网格搜索和交叉验证）\r\n",
    "# 如果一个样本在特征空间中的k个最相似(即特征空间中最邻近（通过欧氏距离计算）)的样本中的大多数属于某一个类别，则该样本也属于这个类别。\r\n",
    "# 1.标准化\r\n",
    "transfer = StandardScaler(with_mean=False)\r\n",
    "x_train = transfer.fit_transform(x_train)\r\n",
    "x_test = transfer.transform(x_test)\r\n",
    "# 2.KNN算法预估器\r\n",
    "estimator = KNeighborsClassifier()\r\n",
    "\r\n",
    "# 3.加入网格算法交叉验证\r\n",
    "# 超参数搜索-网格搜索\r\n",
    "param_dict = {\"n_neighbors\": [1, 2, 3, 4, 5]}\r\n",
    "estimator = GridSearchCV(estimator, param_dict, cv=10)\r\n",
    "estimator.fit(x_train, y_train)\r\n",
    "\r\n",
    "# 4.模型评估(计算准确率)\r\n",
    "score = estimator.score(x_test, y_test)\r\n",
    "y_predict = estimator.predict(x_test)\r\n",
    "print(\"准确率为:%f \\n AUC为:%f \\n\" %(score,roc_auc_score(list(map(int, y_test)), list(map(int, y_predict)))))\r\n",
    "# best_params_:最佳参数\r\n",
    "print(\"最佳参数: \\n\", estimator.best_params_)\r\n",
    "# best_score: 在交叉验证中验证的最好结果_\r\n",
    "print(\"最佳结果：\\n\", estimator.best_score_)\r\n",
    "# best_estimator：最佳估计器\r\n",
    "print(\"最佳估计器：\\n\", estimator.best_estimator_)\r\n",
    "# cv_results_: 每次交叉验证后的验证集准确率结果和训练集准确率结果\r\n",
    "print(\"交叉验证器: \\n\", estimator.cv_results_)"
   ]
  },
  {
   "cell_type": "code",
   "execution_count": 33,
   "metadata": {
    "collapsed": false
   },
   "outputs": [
    {
     "name": "stdout",
     "output_type": "stream",
     "text": [
      "准确率为:0.902968 \n",
      " AUC为:0.683117 \n",
      "\n",
      "              precision    recall  f1-score   support\n",
      "\n",
      "         非谣言       0.90      0.99      0.95      8659\n",
      "          谣言       0.91      0.37      0.53      1482\n",
      "\n",
      "   micro avg       0.90      0.90      0.90     10141\n",
      "   macro avg       0.91      0.68      0.74     10141\n",
      "weighted avg       0.90      0.90      0.88     10141\n",
      "\n"
     ]
    },
    {
     "name": "stderr",
     "output_type": "stream",
     "text": [
      "/opt/conda/envs/python35-paddle120-env/lib/python3.7/site-packages/numpy/lib/arraysetops.py:579: FutureWarning: elementwise comparison failed; returning scalar instead, but in the future will perform elementwise comparison\n",
      "  mask &= (ar1 != a)\n",
      "/opt/conda/envs/python35-paddle120-env/lib/python3.7/site-packages/numpy/lib/arraysetops.py:579: FutureWarning: elementwise comparison failed; returning scalar instead, but in the future will perform elementwise comparison\n",
      "  mask &= (ar1 != a)\n",
      "/opt/conda/envs/python35-paddle120-env/lib/python3.7/site-packages/numpy/lib/arraysetops.py:579: FutureWarning: elementwise comparison failed; returning scalar instead, but in the future will perform elementwise comparison\n",
      "  mask &= (ar1 != a)\n",
      "/opt/conda/envs/python35-paddle120-env/lib/python3.7/site-packages/numpy/lib/arraysetops.py:579: FutureWarning: elementwise comparison failed; returning scalar instead, but in the future will perform elementwise comparison\n",
      "  mask &= (ar1 != a)\n"
     ]
    }
   ],
   "source": [
    "# 方法五：支持向量机(1)\r\n",
    "# 1.使用高斯核函数配置的支持向量机回归模型\r\n",
    "estimator=svm.SVC(kernel='rbf',C=1000)\r\n",
    "estimator.fit(x_train,y_train)\r\n",
    "# 2.模型评估（计算准确率）\r\n",
    "score = estimator.score(x_test,y_test)\r\n",
    "y_predict = estimator.predict(x_test)\r\n",
    "print(\"准确率为:%f \\n AUC为:%f \\n\" %(score,roc_auc_score(list(map(int, y_test)), list(map(int, y_predict)))))\r\n",
    "report = classification_report(y_test, y_predict, labels=[0,1],target_names=[\"非谣言\", \"谣言\"])\r\n",
    "print(report)"
   ]
  },
  {
   "cell_type": "code",
   "execution_count": 34,
   "metadata": {
    "collapsed": false
   },
   "outputs": [
    {
     "name": "stdout",
     "output_type": "stream",
     "text": [
      "准确率为:0.901883 \n",
      " AUC为:0.695065 \n",
      "\n",
      "              precision    recall  f1-score   support\n",
      "\n",
      "         非谣言       0.91      0.99      0.95      8659\n",
      "          谣言       0.84      0.40      0.55      1482\n",
      "\n",
      "   micro avg       0.90      0.90      0.90     10141\n",
      "   macro avg       0.88      0.70      0.75     10141\n",
      "weighted avg       0.90      0.90      0.89     10141\n",
      "\n"
     ]
    },
    {
     "name": "stderr",
     "output_type": "stream",
     "text": [
      "/opt/conda/envs/python35-paddle120-env/lib/python3.7/site-packages/numpy/lib/arraysetops.py:579: FutureWarning: elementwise comparison failed; returning scalar instead, but in the future will perform elementwise comparison\n",
      "  mask &= (ar1 != a)\n",
      "/opt/conda/envs/python35-paddle120-env/lib/python3.7/site-packages/numpy/lib/arraysetops.py:579: FutureWarning: elementwise comparison failed; returning scalar instead, but in the future will perform elementwise comparison\n",
      "  mask &= (ar1 != a)\n",
      "/opt/conda/envs/python35-paddle120-env/lib/python3.7/site-packages/numpy/lib/arraysetops.py:579: FutureWarning: elementwise comparison failed; returning scalar instead, but in the future will perform elementwise comparison\n",
      "  mask &= (ar1 != a)\n",
      "/opt/conda/envs/python35-paddle120-env/lib/python3.7/site-packages/numpy/lib/arraysetops.py:579: FutureWarning: elementwise comparison failed; returning scalar instead, but in the future will perform elementwise comparison\n",
      "  mask &= (ar1 != a)\n"
     ]
    }
   ],
   "source": [
    "# 方法五：支持向量机(2)\r\n",
    "# 1.使用Sigmoid核函数配置的支持向量机回归模型\r\n",
    "estimator=svm.SVC(kernel='sigmoid',C=1000)\r\n",
    "estimator.fit(x_train,y_train)\r\n",
    "# 2.模型评估（计算准确率）\r\n",
    "score = estimator.score(x_test,y_test)\r\n",
    "y_predict = estimator.predict(x_test)\r\n",
    "report = classification_report(y_test, y_predict, labels=[0,1],target_names=[\"非谣言\", \"谣言\"])\r\n",
    "print(\"准确率为:%f \\n AUC为:%f \\n\" %(score,roc_auc_score(list(map(int, y_test)), list(map(int, y_predict)))))\r\n",
    "print(report)"
   ]
  },
  {
   "cell_type": "code",
   "execution_count": 35,
   "metadata": {
    "collapsed": false
   },
   "outputs": [
    {
     "name": "stdout",
     "output_type": "stream",
     "text": [
      "准确率为:0.901883 \n",
      " AUC为:0.695065 \n",
      "\n",
      "              precision    recall  f1-score   support\n",
      "\n",
      "         非谣言       0.91      0.99      0.95      8659\n",
      "          谣言       0.84      0.40      0.55      1482\n",
      "\n",
      "   micro avg       0.90      0.90      0.90     10141\n",
      "   macro avg       0.88      0.70      0.75     10141\n",
      "weighted avg       0.90      0.90      0.89     10141\n",
      "\n"
     ]
    },
    {
     "name": "stderr",
     "output_type": "stream",
     "text": [
      "/opt/conda/envs/python35-paddle120-env/lib/python3.7/site-packages/numpy/lib/arraysetops.py:579: FutureWarning: elementwise comparison failed; returning scalar instead, but in the future will perform elementwise comparison\n",
      "  mask &= (ar1 != a)\n",
      "/opt/conda/envs/python35-paddle120-env/lib/python3.7/site-packages/numpy/lib/arraysetops.py:579: FutureWarning: elementwise comparison failed; returning scalar instead, but in the future will perform elementwise comparison\n",
      "  mask &= (ar1 != a)\n",
      "/opt/conda/envs/python35-paddle120-env/lib/python3.7/site-packages/numpy/lib/arraysetops.py:579: FutureWarning: elementwise comparison failed; returning scalar instead, but in the future will perform elementwise comparison\n",
      "  mask &= (ar1 != a)\n",
      "/opt/conda/envs/python35-paddle120-env/lib/python3.7/site-packages/numpy/lib/arraysetops.py:579: FutureWarning: elementwise comparison failed; returning scalar instead, but in the future will perform elementwise comparison\n",
      "  mask &= (ar1 != a)\n"
     ]
    }
   ],
   "source": [
    "# 方法五：支持向量机(3)\r\n",
    "# 1.使用线性核函数配置的支持向量机回归模型\r\n",
    "model=svm.SVC(kernel='linear',C=1000)\r\n",
    "model.fit(x_train,y_train)\r\n",
    "# 2.模型评估（计算准确率）\r\n",
    "score = estimator.score(x_test,y_test)\r\n",
    "y_predict = estimator.predict(x_test)\r\n",
    "report = classification_report(y_test, y_predict, labels=[0,1],target_names=[\"非谣言\", \"谣言\"])\r\n",
    "print(\"准确率为:%f \\n AUC为:%f \\n\" %(score,roc_auc_score(list(map(int, y_test)), list(map(int, y_predict)))))\r\n",
    "print(report)"
   ]
  },
  {
   "cell_type": "code",
   "execution_count": 36,
   "metadata": {
    "collapsed": false
   },
   "outputs": [],
   "source": [
    "# 分词操作\r\n",
    "def cut_word(text):\r\n",
    "    text = \" \".join(list(jieba.cut(text)))\r\n",
    "    return text"
   ]
  },
  {
   "cell_type": "code",
   "execution_count": 37,
   "metadata": {
    "collapsed": false
   },
   "outputs": [],
   "source": [
    "model_true=[]\r\n",
    "# 生成数据字典\r\n",
    "def create_dict(data_path, dict_path):\r\n",
    "    dict_set = set()\r\n",
    "    # 读取全部数据\r\n",
    "    with open(data_path, 'r', encoding='utf-8') as f:\r\n",
    "        lines = f.readlines()\r\n",
    "    # 把数据生成一个元组\r\n",
    "    for line in lines:\r\n",
    "        for s in line.split(\" \"):\r\n",
    "            dict_set.add(s)\r\n",
    "    # 把元组转换成字典，一个字对应一个数字\r\n",
    "    dict_list = []\r\n",
    "    i = 0\r\n",
    "    for s in dict_set:\r\n",
    "        dict_list.append([s, i])\r\n",
    "        i += 1\r\n",
    "    # 添加未知字符\r\n",
    "    dict_txt = dict(dict_list)\r\n",
    "    end_dict = {\"<unk>\": i}\r\n",
    "    dict_txt.update(end_dict)\r\n",
    "    # 把这些字典保存到本地中\r\n",
    "    with open(dict_path, 'w', encoding='utf-8') as f:\r\n",
    "        f.write(str(dict_txt))\r\n",
    "    print(\"数据字典生成完成！\")\r\n",
    "    \r\n",
    "    \r\n",
    "# 获取字典的长度\r\n",
    "def get_dict_len(dict_path):\r\n",
    "    with open(dict_path, 'r', encoding='utf-8') as f:\r\n",
    "        line = eval(f.readlines()[0])\r\n",
    "    return len(line.keys())"
   ]
  },
  {
   "cell_type": "code",
   "execution_count": 38,
   "metadata": {
    "collapsed": false
   },
   "outputs": [],
   "source": [
    "# 创建序列化表示的数据\r\n",
    "def create_data_list(data_list_path):\r\n",
    "    #在生成数据之前，首先将eval_list.txt和train_list.txt清空\r\n",
    "\r\n",
    "    # 往文件中写入\r\n",
    "    # os.path.join()   函数功能：连接两个或更多的路径名组件，如果各组件名首字母不包含’/’，则函数会自动加上，如果最后一个组件为空，则生成的路径以一个’/’分隔符结尾\r\n",
    "    with open(os.path.join(data_list_path, 'e_split_list.txt'), 'w', encoding='utf-8') as f_eval:\r\n",
    "        f_eval.seek(0)\r\n",
    "        f_eval.truncate()\r\n",
    "        \r\n",
    "    with open(os.path.join(data_list_path, 't_split_list.txt'), 'w', encoding='utf-8') as f_train:\r\n",
    "        f_train.seek(0)\r\n",
    "        f_train.truncate() \r\n",
    "    \r\n",
    "    # 以只读的形式打开文件\r\n",
    "    # str.split(str=\"\",num=string.count(str))[n]  str： 表示为分隔符，默认为空格，但是不能为空(’’)。若字符串中没有分隔符，则把整个字符串作为列表的一个元素   \r\n",
    "    # num：表示分割次数。如果存在参数num，则仅分隔成 num+1 个子字符串，并且每一个子字符串可以赋给新的变量\r\n",
    "    # [n]： 表示选取第n个分片   注意：当使用空格作为分隔符时，对于中间为空的项会自动忽略\r\n",
    "    # readlines()   读取整个文件所有行，保存在一个列表(list)变量中，每行作为一个元素\r\n",
    "    with open(os.path.join(data_list_path, 'dict_split.txt'), 'r', encoding='utf-8') as f_data: \r\n",
    "        dict_txt = eval(f_data.readlines()[0])\r\n",
    "\r\n",
    "    with open(os.path.join(data_list_path, 'split_train_data.txt'), 'r', encoding='utf-8') as f_train_data:\r\n",
    "        train_lines = f_train_data.readlines()\r\n",
    "\r\n",
    "    with open(os.path.join(data_list_path, 'split_test_data.txt'), 'r', encoding='utf-8') as f_test_data:\r\n",
    "        test_lines = f_test_data.readlines()\r\n",
    "\r\n",
    "    with open(os.path.join(data_list_path, 'e_split_list.txt'), 'a', encoding='utf-8') as f_eval,open(os.path.join(data_list_path, 't_split_list.txt'), 'a', encoding='utf-8') as f_train:\r\n",
    "        for line in train_lines:\r\n",
    "            label = line.split('\\t')[0]\r\n",
    "            labs = \"\"\r\n",
    "            for s in line.split(\" \")[1:]:\r\n",
    "                lab = str(dict_txt[s])\r\n",
    "                labs = labs + lab + ','\r\n",
    "            labs = labs[:-1]\r\n",
    "            labs = labs + '\\t' + label + '\\n'\r\n",
    "            f_train.write(labs)\r\n",
    "        for line in test_lines:\r\n",
    "            label = line.split('\\t')[0]\r\n",
    "            # model_true.append(int(label))\r\n",
    "            labs = \"\"\r\n",
    "            for s in line.split(\" \")[1:]:\r\n",
    "                lab = str(dict_txt[s])\r\n",
    "                labs = labs + lab + ','\r\n",
    "            labs = labs[:-1]\r\n",
    "            labs = labs + '\\t' + label + '\\n'\r\n",
    "            f_eval.write(labs) \r\n",
    "        \r\n",
    "    print(\"数据列表生成完成！\")"
   ]
  },
  {
   "cell_type": "code",
   "execution_count": 39,
   "metadata": {
    "collapsed": false
   },
   "outputs": [
    {
     "name": "stderr",
     "output_type": "stream",
     "text": [
      "Building prefix dict from the default dictionary ...\n",
      "DEBUG:jieba:Building prefix dict from the default dictionary ...\n",
      "Dumping model to file cache /tmp/jieba.cache\n",
      "DEBUG:jieba:Dumping model to file cache /tmp/jieba.cache\n",
      "Loading model cost 0.786 seconds.\n",
      "DEBUG:jieba:Loading model cost 0.786 seconds.\n",
      "Prefix dict has been built successfully.\n",
      "DEBUG:jieba:Prefix dict has been built successfully.\n"
     ]
    }
   ],
   "source": [
    "#训练集数据进行文本分词操作后后写入split_train_data.txt\r\n",
    "data_list_path=\"/home/aistudio/data/\"\r\n",
    "train_data_path=data_list_path + \"split_train_data.txt\"\r\n",
    "\r\n",
    "#在生成split_train_data.txt之前，首先将其清空\r\n",
    "#写入的字符串包含换行符，可以达到写入多行的效果\r\n",
    "with open(train_data_path, 'w') as f:\r\n",
    "    f.seek(0)\r\n",
    "    f.truncate()  \r\n",
    "with open(train_data_path, 'a') as f:\r\n",
    "    for data in all_train_list:\r\n",
    "        data=cut_word(data)\r\n",
    "        f.write(data) "
   ]
  },
  {
   "cell_type": "code",
   "execution_count": 40,
   "metadata": {
    "collapsed": false
   },
   "outputs": [],
   "source": [
    "#测试集数据进行文本分词操作后后写入split_test_data.txt\r\n",
    "data_list_path=\"/home/aistudio/data/\"\r\n",
    "test_data_path=data_list_path + \"split_test_data.txt\"\r\n",
    "\r\n",
    "#在生成split_train_data.txt之前，首先将其清空\r\n",
    "#写入的字符串包含换行符，可以达到写入多行的效果\r\n",
    "with open(test_data_path, 'w') as f:\r\n",
    "    f.seek(0)\r\n",
    "    f.truncate()  \r\n",
    "with open(test_data_path, 'a') as f:\r\n",
    "    for data in all_test_list:\r\n",
    "        data=cut_word(data)\r\n",
    "        f.write(data) "
   ]
  },
  {
   "cell_type": "code",
   "execution_count": 41,
   "metadata": {
    "collapsed": false
   },
   "outputs": [],
   "source": [
    "#全部数据进行乱序后写入all_data.txt\r\n",
    "data_list_path=\"/home/aistudio/data/\"\r\n",
    "all_split_data_path=data_list_path + \"split_all_data.txt\"\r\n",
    "all_data_list = all_train_list + all_test_list\r\n",
    "\r\n",
    "#在生成all_data.txt之前，首先将其清空\r\n",
    "with open(all_split_data_path, 'w') as f:\r\n",
    "    f.seek(0)\r\n",
    "    f.truncate() \r\n",
    "    \r\n",
    "with open(all_split_data_path, 'a') as f:\r\n",
    "    for data in all_data_list:\r\n",
    "        data=cut_word(data)\r\n",
    "        f.write(data) "
   ]
  },
  {
   "cell_type": "code",
   "execution_count": 42,
   "metadata": {
    "collapsed": false
   },
   "outputs": [],
   "source": [
    "with open(os.path.join(data_list_path, 'split_test_data.txt'), 'r', encoding='utf-8') as e_true,open(os.path.join(data_list_path, 'ee_true.txt'), 'a', encoding='utf-8') as ee_true:\r\n",
    "    for line in e_true:\r\n",
    "        label = line.split('\\t')[0]\r\n",
    "        model_true.append(label)\r\n",
    "        ee_true.write(str(label))\r\n"
   ]
  },
  {
   "cell_type": "code",
   "execution_count": 43,
   "metadata": {
    "collapsed": false
   },
   "outputs": [
    {
     "name": "stdout",
     "output_type": "stream",
     "text": [
      "数据字典生成完成！\n",
      "数据列表生成完成！\n"
     ]
    }
   ],
   "source": [
    "#dict_path为数据字典存放路径\r\n",
    "data_list_path=\"/home/aistudio/data/\"\r\n",
    "dict_path = data_list_path + \"dict_split.txt\"\r\n",
    "\r\n",
    "#创建数据字典，存放位置：dict.txt。在生成之前先清空dict.txt\r\n",
    "with open(dict_path, 'w') as f:\r\n",
    "    f.seek(0)\r\n",
    "    f.truncate() \r\n",
    "create_dict(all_split_data_path, dict_path)\r\n",
    "\r\n",
    "#创建数据列表，存放位置：train_list.txt eval_list.txt\r\n",
    "create_data_list(data_list_path)"
   ]
  },
  {
   "cell_type": "code",
   "execution_count": 44,
   "metadata": {
    "collapsed": false
   },
   "outputs": [],
   "source": [
    "def data_mapper(sample):\r\n",
    "    data, label = sample\r\n",
    "    data = [int(data) for data in data.split(',')]\r\n",
    "    return data, int(label)\r\n",
    "\r\n",
    "#定义数据读取器\r\n",
    "def data_reader(data_path):\r\n",
    "    def reader():\r\n",
    "        with open(data_path, 'r') as f:\r\n",
    "            lines = f.readlines()\r\n",
    "            for line in lines:\r\n",
    "                data, label = line.split('\\t')\r\n",
    "                yield data, label\r\n",
    "    return paddle.reader.xmap_readers(data_mapper, reader, cpu_count(), 1024)"
   ]
  },
  {
   "cell_type": "code",
   "execution_count": 45,
   "metadata": {
    "collapsed": false
   },
   "outputs": [],
   "source": [
    "# 获取训练数据读取器和测试数据读取器\r\n",
    "BATCH_SIZE = 128\r\n",
    "\r\n",
    "train_list_path = data_list_path+'t_split_list.txt'\r\n",
    "eval_list_path = data_list_path+'e_split_list.txt'\r\n",
    "\r\n",
    "# paddle.batch(reader, batch_size, drop_last=False)\r\n",
    "# paddle.batch: 该接口是一个reader的装饰器。返回的reader将输入reader的数据打包成指定的batch_size大小的批处理数据（batched data）\r\n",
    "train_reader = paddle.batch(\r\n",
    "\t\treader=data_reader(train_list_path), \r\n",
    "\t\tbatch_size=BATCH_SIZE)\r\n",
    "eval_reader = paddle.batch(\r\n",
    "\t\treader=data_reader(eval_list_path), \r\n",
    "\t\tbatch_size=BATCH_SIZE)"
   ]
  },
  {
   "cell_type": "code",
   "execution_count": 46,
   "metadata": {
    "collapsed": false
   },
   "outputs": [],
   "source": [
    "# 方法六：循环神经网络（RNN）算法\r\n",
    "# 定义长短期记忆网络\r\n",
    "def lstm_net(ipt, input_dim):\r\n",
    "\r\n",
    "    # 词嵌入\r\n",
    "    # 设立一个embedding层，用来把句子中每个词转换成向量  \r\n",
    "    emb = fluid.layers.embedding(input=ipt, size=[input_dim, 128], is_sparse=True)\r\n",
    "\r\n",
    "    # 第一个全连接层\r\n",
    "    fc1 = fluid.layers.fc(input=emb, size=128)\r\n",
    "\r\n",
    "    # 进行一个长短期记忆操作\r\n",
    "    lstm1, _ = fluid.layers.dynamic_lstm(input=fc1, #返回：隐藏状态（hidden state），LSTM的神经元状态\r\n",
    "\r\n",
    "                                         size=128) #size=4*hidden_size\r\n",
    "\r\n",
    "    # 第一个最大序列池操作 池化层（减少学习参数，防止过拟合）\r\n",
    "    fc2 = fluid.layers.sequence_pool(input=fc1, pool_type='max')\r\n",
    "\r\n",
    "    # 第二个最大序列池操作 池化层（减少学习参数，防止过拟合）\r\n",
    "    lstm2 = fluid.layers.sequence_pool(input=lstm1, pool_type='max')\r\n",
    "\r\n",
    "    # 以softmax作为全连接的输出层，大小为2,也就是真假 ，达到分类效果\r\n",
    "    out = fluid.layers.fc(input=[fc2, lstm2], size=2, act='softmax')\r\n",
    "\r\n",
    "    return out"
   ]
  },
  {
   "cell_type": "code",
   "execution_count": 47,
   "metadata": {
    "collapsed": false
   },
   "outputs": [],
   "source": [
    "# 定义网络结构\r\n",
    "# 定义输入数据， lod_level不为0指定输入数据为序列数据\r\n",
    "paddle.enable_static()  #静态\r\n",
    "words = fluid.data(name='words', shape=[None,1], dtype='int64', lod_level=1)\r\n",
    "label = fluid.data(name='label', shape=[None,1], dtype='int64')"
   ]
  },
  {
   "cell_type": "code",
   "execution_count": 48,
   "metadata": {
    "collapsed": false
   },
   "outputs": [],
   "source": [
    "# 获取数据字典长度\r\n",
    "dict_dim = get_dict_len(dict_path)\r\n",
    "# 获取分类器\r\n",
    "model = lstm_net(words, dict_dim)"
   ]
  },
  {
   "cell_type": "code",
   "execution_count": 49,
   "metadata": {
    "collapsed": false
   },
   "outputs": [],
   "source": [
    "# 获取损失函数和准确率\r\n",
    "# 定义损失函数，因为是一个分类任务，所以使用的损失函数是交叉熵损失函数。\r\n",
    "# 使用fluid.layers.accuracy()接口定义一个输出分类准确率的函数，可以方便在训练的时候，输出测试时的分类准确率，观察模型收敛的情况。\r\n",
    "cost = fluid.layers.cross_entropy(input=model, label=label)\r\n",
    "avg_cost = fluid.layers.mean(cost)\r\n",
    "acc = fluid.layers.accuracy(input=model, label=label)"
   ]
  },
  {
   "cell_type": "code",
   "execution_count": 50,
   "metadata": {
    "collapsed": false
   },
   "outputs": [],
   "source": [
    "# 获取预测程序\r\n",
    "test_program = fluid.default_main_program().clone(for_test=True)"
   ]
  },
  {
   "cell_type": "code",
   "execution_count": 51,
   "metadata": {
    "collapsed": false
   },
   "outputs": [],
   "source": [
    "# 定义优化方法\r\n",
    "# 这里使用的时Adagrad优化方法，Adagrad优化方法多用于处理稀疏数据，设置学习率为0.002。\r\n",
    "optimizer = fluid.optimizer.AdagradOptimizer(learning_rate=0.001)\r\n",
    "opt = optimizer.minimize(avg_cost)"
   ]
  },
  {
   "cell_type": "code",
   "execution_count": 52,
   "metadata": {
    "collapsed": false
   },
   "outputs": [
    {
     "data": {
      "text/plain": [
       "[]"
      ]
     },
     "execution_count": 52,
     "metadata": {},
     "output_type": "execute_result"
    }
   ],
   "source": [
    "# use_cuda为False,表示运算场所为CPU;use_cuda为True,表示运算场所为GPU \r\n",
    "use_cuda = False   #定义运算场所，这里选择在GPU下训练\r\n",
    "place = fluid.CUDAPlace(0) if use_cuda else fluid.CPUPlace()\r\n",
    "# 定义执行器(参数随机初始化):\r\n",
    "exe = fluid.Executor(place)  \r\n",
    "# 进行参数初始化\r\n",
    "exe.run(fluid.default_startup_program())"
   ]
  },
  {
   "cell_type": "code",
   "execution_count": 53,
   "metadata": {
    "collapsed": false
   },
   "outputs": [],
   "source": [
    "# 定义数据映射器\r\n",
    "feeder = fluid.DataFeeder(place=place, feed_list=[words, label])"
   ]
  },
  {
   "cell_type": "code",
   "execution_count": 54,
   "metadata": {
    "collapsed": false
   },
   "outputs": [
    {
     "name": "stdout",
     "output_type": "stream",
     "text": [
      "Pass:0\n",
      "Pass:1\n",
      "Pass:2\n",
      "Pass:3\n",
      "Pass:4\n",
      "Pass:5\n",
      "Pass:6\n",
      "Pass:7\n",
      "Pass:8\n",
      "Pass:9\n",
      "Pass:10\n",
      "Pass:11\n",
      "Pass:12\n",
      "Pass:13\n",
      "Pass:14\n",
      "Pass:15\n",
      "Pass:16\n",
      "Pass:17\n",
      "Pass:18\n",
      "Pass:19\n",
      "Pass:20\n",
      "Pass:21\n",
      "Pass:22\n",
      "Pass:23\n",
      "Pass:24\n",
      "Pass:25\n",
      "Pass:26\n",
      "Pass:27\n",
      "Pass:28\n",
      "Pass:29\n",
      "Pass:30\n",
      "Pass:31\n",
      "Pass:32\n",
      "Pass:33\n",
      "Pass:34\n",
      "Pass:35\n",
      "Pass:36\n",
      "Pass:37\n",
      "Pass:38\n",
      "Pass:39\n",
      "Test:, Cost:0.28566, ACC:0.88960\n",
      "              precision    recall  f1-score   support\n",
      "\n",
      "         非谣言       0.92      0.96      0.94      8659\n",
      "          谣言       0.67      0.49      0.56      1482\n",
      "\n",
      "    accuracy                           0.89     10141\n",
      "   macro avg       0.79      0.72      0.75     10141\n",
      "weighted avg       0.88      0.89      0.88     10141\n",
      "\n",
      "AUC: 0.8812735152351372\n"
     ]
    },
    {
     "name": "stderr",
     "output_type": "stream",
     "text": [
      "/opt/conda/envs/python35-paddle120-env/lib/python3.7/site-packages/matplotlib/cbook/__init__.py:2349: DeprecationWarning: Using or importing the ABCs from 'collections' instead of from 'collections.abc' is deprecated, and in 3.8 it will stop working\n",
      "  if isinstance(obj, collections.Iterator):\n",
      "/opt/conda/envs/python35-paddle120-env/lib/python3.7/site-packages/matplotlib/cbook/__init__.py:2366: DeprecationWarning: Using or importing the ABCs from 'collections' instead of from 'collections.abc' is deprecated, and in 3.8 it will stop working\n",
      "  return list(data) if isinstance(data, collections.MappingView) else data\n"
     ]
    },
    {
     "data": {
      "image/png": "[encoded data removed]",
      "text/plain": [
       "<Figure size 432x288 with 1 Axes>"
      ]
     },
     "metadata": {},
     "output_type": "display_data"
    },
    {
     "name": "stdout",
     "output_type": "stream",
     "text": [
      "训练模型保存完成！\n"
     ]
    }
   ],
   "source": [
    "all_train_iter=0\r\n",
    "all_train_iters=[]\r\n",
    "all_train_costs=[]\r\n",
    "all_train_accs=[]\r\n",
    "all_train_models=[]\r\n",
    "\r\n",
    "Total= 40                   #训练轮数\r\n",
    "model_save_dir = '/home/aistudio/work/infer_model/' #模型保存路径\r\n",
    "# 开始训练\r\n",
    "for pass_id in range(Total):\r\n",
    "    # 进行训练\r\n",
    "    for batch_id, data in enumerate(train_reader()):     #对于一个可迭代的（iterable）/可遍历的对象（如列表、字符串），enumerate将其组成一个索引序列，利用它可以同时获得索引和值\r\n",
    "        train_cost, train_model, train_acc = exe.run(program=fluid.default_main_program(),\r\n",
    "                             feed=feeder.feed(data),\r\n",
    "                             fetch_list=[avg_cost, model,acc])\r\n",
    "        all_train_iter=all_train_iter+BATCH_SIZE\r\n",
    "        all_train_iters.append(all_train_iter)\r\n",
    "        all_train_costs.append(train_cost[0])\r\n",
    "        all_train_models.append(train_model[0])\r\n",
    "        all_train_accs.append(train_acc[0])\r\n",
    "    print('Pass:%d' % (pass_id))\r\n",
    " # 测试集进行验证\r\n",
    "all_eval_costs=[]\r\n",
    "all_eval_accs=[]\r\n",
    "all_eval_models=[]\r\n",
    "eval_costs = []\r\n",
    "eval_models=[]\r\n",
    "eval_accs = []\r\n",
    "eval_model_0=[]\r\n",
    "for batch_id, data in enumerate(eval_reader()):\r\n",
    "    eval_cost, eval_model, eval_acc = exe.run(program=test_program,\r\n",
    "                                            feed=feeder.feed(data),\r\n",
    "                                            fetch_list=[avg_cost, model,acc])\r\n",
    "    eval_model_0.extend([_[0] for _ in eval_model])\r\n",
    "    eval_costs.extend(eval_cost.tolist())\r\n",
    "    eval_models.extend(eval_model.tolist())\r\n",
    "    eval_accs.extend(eval_acc.tolist())\r\n",
    "    all_eval_costs.extend(eval_cost.tolist())   \r\n",
    "    all_eval_models.extend(eval_model.tolist())                                    \r\n",
    "    all_eval_accs.extend(eval_acc.tolist())     \r\n",
    "\r\n",
    "# 计算平均预测损失在，准确率，F1召回率、精确率、AUC\r\n",
    "eval_cost = (sum(eval_costs) / len(eval_costs))\r\n",
    "eval_acc = (sum(eval_accs) / len(eval_accs))\r\n",
    "print('Test:, Cost:%0.5f, ACC:%0.5f' % (eval_cost, eval_acc))\r\n",
    "model_predict=np.argmax(all_eval_models,axis=1)\r\n",
    "model_true=list(map(int,model_true))\r\n",
    "report = classification_report(model_true,model_predict, labels=[0,1],target_names=[\"非谣言\", \"谣言\"])\r\n",
    "print(report)\r\n",
    "\r\n",
    "\r\n",
    "fpr, tpr, thresholds = sklearn.metrics.roc_curve(model_true, eval_model_0, pos_label=0)\r\n",
    "print(\"AUC:\",sklearn.metrics.auc(fpr, tpr))\r\n",
    "plt.plot(fpr, tpr,color='darkorange',  label='ROC',lw=2)\r\n",
    "plt.xlim([0.0, 1.0])\r\n",
    "plt.ylim([0.0, 1.0])\r\n",
    "plt.xlabel('False Positive Rate')\r\n",
    "plt.ylabel('True Positive Rate')\r\n",
    "plt.title('ROC Curve')\r\n",
    "plt.legend(loc=\"lower right\")\r\n",
    "plt.plot([0,1],[0,1],\"k-\")\r\n",
    "plt.show()\r\n",
    "\r\n",
    "# 保存模型\r\n",
    "# 保存训练参数到之前给定的路径中\r\n",
    "if not os.path.exists(model_save_dir): \r\n",
    "    os.makedirs(model_save_dir) \r\n",
    "fluid.io.save_inference_model(model_save_dir, \r\n",
    "                            feeded_var_names=[words.name], \r\n",
    "                            target_vars=[model], \r\n",
    "                            executor=exe)\r\n",
    "print('训练模型保存完成！') "
   ]
  },
  {
   "cell_type": "code",
   "execution_count": 55,
   "metadata": {
    "collapsed": false
   },
   "outputs": [
    {
     "name": "stdout",
     "output_type": "stream",
     "text": [
      "预测结果标签为：0， 分类为：非谣言， 概率为：0.984817\n",
      "预测结果标签为：1， 分类为：谣言， 概率为：0.908611\n",
      "预测结果标签为：1， 分类为：谣言， 概率为：0.897746\n"
     ]
    }
   ],
   "source": [
    "# 用训练好的模型进行预测并输出预测结果\r\n",
    "# 创建执行器\r\n",
    "place = fluid.CPUPlace()\r\n",
    "infer_exe = fluid.Executor(place)\r\n",
    "infer_exe.run(fluid.default_startup_program())\r\n",
    "\r\n",
    "save_path = '/home/aistudio/work/infer_model/'\r\n",
    "\r\n",
    "# 从模型中获取预测程序、输入数据名称列表、分类器\r\n",
    "[infer_program, feeded_var_names, target_var] = fluid.io.load_inference_model(dirname=save_path, executor=infer_exe)\r\n",
    "\r\n",
    "# 获取数据\r\n",
    "def get_data(sentence):\r\n",
    "    # 读取数据字典\r\n",
    "    with open('/home/aistudio/data/dict_split.txt', 'r', encoding='utf-8') as f_data:\r\n",
    "        dict_txt = eval(f_data.readlines()[0])\r\n",
    "    dict_txt = dict(dict_txt)\r\n",
    "    # 把字符串数据转换成列表数据\r\n",
    "    keys = dict_txt.keys()\r\n",
    "    data = []\r\n",
    "    sentence=cut_word(sentence)\r\n",
    "    for s in sentence.split(\" \"):\r\n",
    "        # 判断是否存在未知字符\r\n",
    "        if not s in keys:\r\n",
    "            s = '<unk>'\r\n",
    "        data.append(int(dict_txt[s]))\r\n",
    "    return data\r\n",
    "\r\n",
    "data = []\r\n",
    "# 获取图片数据\r\n",
    "data1 = get_data('中国这个被誉为“世界最大”的火车站，耗资130亿元！')\r\n",
    "data2 = get_data('42岁刘涛出轨导致婚变，她该何去何从，所有人惊呆...')\r\n",
    "data3 = get_data('BaBy又怀孕了，却招晓明机场暴打？原因竟然是……')\r\n",
    "data.append(data1)\r\n",
    "data.append(data2)\r\n",
    "data.append(data3)\r\n",
    "\r\n",
    "# 获取每句话的单词数量\r\n",
    "base_shape = [[len(c) for c in data]]\r\n",
    "\r\n",
    "# 生成预测数据\r\n",
    "tensor_words = fluid.create_lod_tensor(data, base_shape, place)\r\n",
    "\r\n",
    "# 执行预测\r\n",
    "result = exe.run(program=infer_program,\r\n",
    "                 feed={feeded_var_names[0]: tensor_words},\r\n",
    "                 fetch_list=target_var)\r\n",
    "\r\n",
    "# 分类名称\r\n",
    "names = [ '非谣言', '谣言']\r\n",
    "\r\n",
    "# 获取结果概率最大的label\r\n",
    "for i in range(len(data)):\r\n",
    "    lab = np.argsort(result)[0][i][-1]\r\n",
    "    print('预测结果标签为：%d， 分类为：%s， 概率为：%f' % (lab, names[lab], result[0][i][lab]))"
   ]
  }
 ],
 "metadata": {
  "kernelspec": {
   "display_name": "Python 3",
   "language": "python",
   "name": "py35-paddle1.2.0"
  },
  "language_info": {
   "codemirror_mode": {
    "name": "ipython",
    "version": 3
   },
   "file_extension": ".py",
   "mimetype": "text/x-python",
   "name": "python",
   "nbconvert_exporter": "python",
   "pygments_lexer": "ipython3",
   "version": "3.7.4"
  }
 },
 "nbformat": 4,
 "nbformat_minor": 1
}
